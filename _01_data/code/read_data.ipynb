{
 "cells": [
  {
   "cell_type": "code",
   "execution_count": 48,
   "id": "9e537bc5",
   "metadata": {},
   "outputs": [],
   "source": [
    "import requests\n",
    "import pandas as pd\n",
    "from datetime import datetime, timedelta\n",
    "import time\n",
    "from tqdm import tqdm\n",
    "import zipfile\n",
    "import io\n",
    "import os"
   ]
  },
  {
   "cell_type": "code",
   "execution_count": 39,
   "id": "1b77f702",
   "metadata": {},
   "outputs": [],
   "source": [
    "def request_area_info():\n",
    "    url = \"https://www.jma.go.jp/jma/kishou/know/amedas/ame_master.zip\"\n",
    "    response = requests.get(url)\n",
    "    response.raise_for_status()\n",
    "    #ID_info = response.json()\n",
    "\n",
    "    with zipfile.ZipFile(io.BytesIO(response.content)) as z:\n",
    "        # extract  csv file\n",
    "        csv_name = next(name for name in z.namelist() if name.lower().endswith('.csv'))\n",
    "\n",
    "        with z.open(csv_name) as f:\n",
    "            print(csv_name)\n",
    "            ID_info_df = pd.read_csv(f, encoding='cp932')\n",
    "\n",
    "    #ID_info_df = pd.DataFrame.from_dict(ID_info, orient='index')\n",
    "\n",
    "    # add ID column\n",
    "    ID_info_df[\"ID\"] = ID_info_df[\"観測所番号\"].astype(int)\n",
    "    ID_info_df = ID_info_df.reset_index()\n",
    "    return ID_info_df"
   ]
  },
  {
   "cell_type": "code",
   "execution_count": 40,
   "id": "b736d439",
   "metadata": {},
   "outputs": [],
   "source": [
    "def request_one_day_amedas_data(date):\n",
    "    URL = \"https://www.jma.go.jp/bosai/amedas/data/map/\"\n",
    "    date = datetime.strptime(date, \"%Y%m%d\")\n",
    "    one_hour_data = []\n",
    "\n",
    "    for hour in tqdm(range(24)):\n",
    "        timestamp = date.strftime(f\"%Y%m%d{hour:02d}0000\")\n",
    "        url = f\"{URL}{timestamp}.json\"\n",
    "        response = requests.get(url)\n",
    "\n",
    "        if response.status_code == 200:\n",
    "            data = response.json()\n",
    "            df = pd.DataFrame.from_dict(data, orient='index')\n",
    "   \n",
    "            df['date'] = date.strftime('%Y-%m-%d')\n",
    "            df['hour'] = f\"{hour:02d}:00:00\"\n",
    "                \n",
    "            one_hour_data.append(df)\n",
    "\n",
    "            # Sleep to avoid overwhelming the server\n",
    "            time.sleep(0.5)\n",
    "        else:\n",
    "            print(f\"failed to requrst data at {timestamp}\")\n",
    "            \n",
    "\n",
    "    one_day_df = pd.concat(one_hour_data)\n",
    "\n",
    "    # add ID column\n",
    "    one_day_df[\"ID\"] = one_day_df.index.astype(int)\n",
    "    one_day_df = one_day_df.reset_index()\n",
    "    \n",
    "    return one_day_df"
   ]
  },
  {
   "cell_type": "code",
   "execution_count": 55,
   "id": "60370a32",
   "metadata": {},
   "outputs": [],
   "source": [
    "def import_raw_data(date):\n",
    "    # request amedas data\n",
    "    print(\"data request start!\")\n",
    "    main_df = request_one_day_amedas_data(date)\n",
    "    ID_info_df = request_area_info()\n",
    "    print(\"data request end!\")\n",
    "\n",
    "    # merge \n",
    "    main_df = pd.merge(main_df, ID_info_df, on=\"ID\", how=\"left\")\n",
    "\n",
    "    # save\n",
    "    data_dir = os.path.abspath(os.path.join(os.getcwd(), os.pardir))\n",
    "    save_path = os.path.join(data_dir, \"data\", f\"amedas_data_{date}.csv\")\n",
    "    main_df.to_csv(save_path, index=False)"
   ]
  },
  {
   "cell_type": "code",
   "execution_count": 56,
   "id": "9beb3ab1",
   "metadata": {},
   "outputs": [
    {
     "name": "stdout",
     "output_type": "stream",
     "text": [
      "data request start!\n"
     ]
    },
    {
     "name": "stderr",
     "output_type": "stream",
     "text": [
      "100%|██████████| 24/24 [00:15<00:00,  1.51it/s]\n"
     ]
    },
    {
     "name": "stdout",
     "output_type": "stream",
     "text": [
      "ame_master_20250707.csv\n",
      "data request end!\n"
     ]
    }
   ],
   "source": [
    "# run \n",
    "DATE = \"20250713\"  \n",
    "df = import_raw_data(DATE)"
   ]
  }
 ],
 "metadata": {
  "kernelspec": {
   "display_name": ".venv",
   "language": "python",
   "name": "python3"
  },
  "language_info": {
   "codemirror_mode": {
    "name": "ipython",
    "version": 3
   },
   "file_extension": ".py",
   "mimetype": "text/x-python",
   "name": "python",
   "nbconvert_exporter": "python",
   "pygments_lexer": "ipython3",
   "version": "3.12.0"
  }
 },
 "nbformat": 4,
 "nbformat_minor": 5
}
