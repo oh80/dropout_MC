{
 "cells": [
  {
   "cell_type": "code",
   "execution_count": 1,
   "id": "3b3cdc1e",
   "metadata": {},
   "outputs": [],
   "source": [
    "import pandas as pd\n",
    "from sklearn.model_selection import train_test_split\n",
    "from torch.utils.data import TensorDataset, DataLoader, random_split\n",
    "import torch\n",
    "import torch.nn as nn\n",
    "import numpy as np\n",
    "import geopandas as gpd\n",
    "from shapely.geometry import Point"
   ]
  },
  {
   "cell_type": "markdown",
   "id": "c4a2afef",
   "metadata": {},
   "source": [
    "# random add"
   ]
  },
  {
   "cell_type": "code",
   "execution_count": 2,
   "id": "f41cee0d",
   "metadata": {},
   "outputs": [],
   "source": [
    "data = pd.read_csv(\"C://dropout_MC//dropout_MC//_02_build//data//train_data.csv\")\n",
    "train_data, others_data = train_test_split(data, test_size=0.7, random_state=42)"
   ]
  },
  {
   "cell_type": "code",
   "execution_count": 10,
   "id": "e5026a9b",
   "metadata": {},
   "outputs": [],
   "source": [
    "# random add data\n",
    "selected_data, _  = train_test_split(data, test_size=0.85, random_state=42)"
   ]
  },
  {
   "cell_type": "code",
   "execution_count": 16,
   "id": "9bb93933",
   "metadata": {},
   "outputs": [],
   "source": [
    "train_data = pd.concat([train_data, selected_data]).reset_index()"
   ]
  },
  {
   "cell_type": "code",
   "execution_count": 17,
   "id": "dd732e2f",
   "metadata": {},
   "outputs": [],
   "source": [
    "train_X = train_data[['latitude', 'longitude']].values\n",
    "train_y = train_data['temp'].values.reshape(-1, 1) \n",
    "\n",
    "# Convert to PyTorch Tensors\n",
    "X_tensor = torch.tensor(train_X, dtype=torch.float32)\n",
    "y_tensor = torch.tensor(train_y, dtype=torch.float32)\n",
    "\n",
    "# Create a dataset and dataloader\n",
    "dataset = TensorDataset(X_tensor, y_tensor)\n",
    "\n",
    "train_size = int(0.7 * len(dataset))\n",
    "val_size = len(dataset) - train_size\n",
    "\n",
    "train_dataset, val_dataset = random_split(dataset, [train_size, val_size])\n",
    "\n",
    "# Batch size can be adjusted depending on your dataset size and memory\n",
    "train_loader = DataLoader(train_dataset, batch_size=10, shuffle=True)\n",
    "val_loader = DataLoader(val_dataset, batch_size=10)\n"
   ]
  },
  {
   "cell_type": "code",
   "execution_count": 18,
   "id": "bb42a10a",
   "metadata": {},
   "outputs": [],
   "source": [
    "class NN(nn.Module):\n",
    "    def __init__(self):\n",
    "        super(NN, self).__init__()\n",
    "        self.model = nn.Sequential(\n",
    "            nn.Linear(2, 1024),\n",
    "            nn.ReLU(),\n",
    "            nn.Dropout(0.1),\n",
    "            nn.Linear(1024, 1024),\n",
    "            nn.ReLU(),\n",
    "            nn.Dropout(0.1),\n",
    "            nn.Linear(1024, 1024),\n",
    "            nn.ReLU(),\n",
    "            nn.Dropout(0.1),\n",
    "            nn.Linear(1024, 1)\n",
    "        )\n",
    "\n",
    "    def forward(self, x):\n",
    "        return self.model(x)"
   ]
  },
  {
   "cell_type": "code",
   "execution_count": 19,
   "id": "11a6ad26",
   "metadata": {},
   "outputs": [],
   "source": [
    "# Create an instance of the model and optimizer\n",
    "model = NN()\n",
    "optimizer = torch.optim.Adam(model.parameters(), lr=0.001)\n",
    "loss_function = nn.MSELoss() "
   ]
  },
  {
   "cell_type": "code",
   "execution_count": 20,
   "id": "b479c8c4",
   "metadata": {},
   "outputs": [
    {
     "name": "stdout",
     "output_type": "stream",
     "text": [
      "epoch[100/1000], eval: 17.0595\n",
      "epoch[200/1000], eval: 24.5183\n",
      "epoch[300/1000], eval: 7.3290\n",
      "epoch[400/1000], eval: 6.1973\n",
      "epoch[500/1000], eval: 29.0179\n",
      "epoch[600/1000], eval: 6.5633\n",
      "epoch[700/1000], eval: 9.1142\n",
      "epoch[800/1000], eval: 22.5546\n",
      "epoch[900/1000], eval: 16.1775\n",
      "epoch[1000/1000], eval: 9.5715\n",
      "training finished!\n",
      "best model was saved at C://dropout_MC//dropout_MC//_03_analyze//model//add_data_random_model.pth: eval loss: 5.1962)\n"
     ]
    }
   ],
   "source": [
    "best_val_loss = float('inf') \n",
    "save_path = 'C://dropout_MC//dropout_MC//_03_analyze//model//add_data_random_model.pth' \n",
    "epochs = 1000\n",
    "\n",
    "for epoch in range(epochs):\n",
    "    # --- train ---\n",
    "    model.train() \n",
    "    for inputs, targets in train_loader:\n",
    "        outputs = model(inputs)\n",
    "        loss = loss_function(outputs, targets)\n",
    "        optimizer.zero_grad()\n",
    "        loss.backward()\n",
    "        optimizer.step()\n",
    "\n",
    "    # --- evaluation ---\n",
    "    model.eval() \n",
    "    val_loss = 0.0\n",
    "    with torch.no_grad(): \n",
    "        for inputs, targets in val_loader:\n",
    "            outputs = model(inputs)\n",
    "            loss = loss_function(outputs, targets)\n",
    "            val_loss += loss.item()\n",
    "\n",
    "    avg_val_loss = val_loss / len(val_loader)\n",
    "\n",
    "    if (epoch + 1) % 100 == 0:\n",
    "        print(f'epoch[{epoch+1}/{epochs}], eval: {avg_val_loss:.4f}')\n",
    "\n",
    "    # --- best model save ---\n",
    "    if avg_val_loss < best_val_loss:\n",
    "        best_val_loss = avg_val_loss\n",
    "        torch.save(model.state_dict(), save_path)\n",
    "\n",
    "print(\"training finished!\")\n",
    "print(f\"best model was saved at {save_path}: eval loss: {best_val_loss:.4f})\")"
   ]
  },
  {
   "cell_type": "code",
   "execution_count": 21,
   "id": "499314e1",
   "metadata": {},
   "outputs": [
    {
     "data": {
      "text/plain": [
       "NN(\n",
       "  (model): Sequential(\n",
       "    (0): Linear(in_features=2, out_features=1024, bias=True)\n",
       "    (1): ReLU()\n",
       "    (2): Dropout(p=0.1, inplace=False)\n",
       "    (3): Linear(in_features=1024, out_features=1024, bias=True)\n",
       "    (4): ReLU()\n",
       "    (5): Dropout(p=0.1, inplace=False)\n",
       "    (6): Linear(in_features=1024, out_features=1024, bias=True)\n",
       "    (7): ReLU()\n",
       "    (8): Dropout(p=0.1, inplace=False)\n",
       "    (9): Linear(in_features=1024, out_features=1, bias=True)\n",
       "  )\n",
       ")"
      ]
     },
     "execution_count": 21,
     "metadata": {},
     "output_type": "execute_result"
    }
   ],
   "source": [
    "loaded_model = NN()\n",
    "loaded_model.load_state_dict(torch.load(save_path))\n",
    "loaded_model.eval()"
   ]
  },
  {
   "cell_type": "code",
   "execution_count": 22,
   "id": "d680c964",
   "metadata": {},
   "outputs": [],
   "source": [
    "test_data = pd.read_csv(\"C://dropout_MC//dropout_MC//_02_build//data//test_data.csv\")\n",
    "test_X = train_X = test_data[['latitude', 'longitude']].values\n",
    "test_X_tensor = torch.tensor(test_X, dtype=torch.float32)\n",
    "y_pred = loaded_model(test_X_tensor).detach().numpy()\n",
    "test_data[\"pred\"] = y_pred\n",
    "test_data.to_csv(\"C://dropout_MC//dropout_MC//_03_analyze//result//add_data_random_model_pred.csv\", index=False)"
   ]
  },
  {
   "cell_type": "code",
   "execution_count": 25,
   "id": "f6bf8ac9",
   "metadata": {},
   "outputs": [
    {
     "data": {
      "text/plain": [
       "<matplotlib.collections.PathCollection at 0x19296898ef0>"
      ]
     },
     "execution_count": 25,
     "metadata": {},
     "output_type": "execute_result"
    },
    {
     "data": {
      "image/png": "[encoded data removed]",
      "text/plain": [
       "<Figure size 640x480 with 1 Axes>"
      ]
     },
     "metadata": {},
     "output_type": "display_data"
    }
   ],
   "source": [
    "import matplotlib.pyplot as plt\n",
    "plt.scatter(test_data[\"temp\"], test_data[\"pred\"])"
   ]
  },
  {
   "cell_type": "code",
   "execution_count": 33,
   "id": "6ff14052",
   "metadata": {},
   "outputs": [
    {
     "data": {
      "text/plain": [
       "2.6792230187126673"
      ]
     },
     "execution_count": 33,
     "metadata": {},
     "output_type": "execute_result"
    }
   ],
   "source": [
    "from sklearn.metrics import root_mean_squared_error as rmse\n",
    "rmse(test_data[\"temp\"], test_data[\"pred\"])"
   ]
  },
  {
   "cell_type": "markdown",
   "id": "288992d6",
   "metadata": {},
   "source": [
    "# selected data"
   ]
  },
  {
   "cell_type": "code",
   "execution_count": 47,
   "id": "d02fd6b9",
   "metadata": {},
   "outputs": [
    {
     "data": {
      "text/html": [
       "<div>\n",
       "<style scoped>\n",
       "    .dataframe tbody tr th:only-of-type {\n",
       "        vertical-align: middle;\n",
       "    }\n",
       "\n",
       "    .dataframe tbody tr th {\n",
       "        vertical-align: top;\n",
       "    }\n",
       "\n",
       "    .dataframe thead th {\n",
       "        text-align: right;\n",
       "    }\n",
       "</style>\n",
       "<table border=\"1\" class=\"dataframe\">\n",
       "  <thead>\n",
       "    <tr style=\"text-align: right;\">\n",
       "      <th></th>\n",
       "      <th>Unnamed: 0</th>\n",
       "      <th>var_latitude</th>\n",
       "      <th>var_longitude</th>\n",
       "      <th>var_value</th>\n",
       "      <th>matched_station_name</th>\n",
       "      <th>matched_station_latitude</th>\n",
       "      <th>matched_station_longitude</th>\n",
       "      <th>temp</th>\n",
       "      <th>distance</th>\n",
       "    </tr>\n",
       "  </thead>\n",
       "  <tbody>\n",
       "    <tr>\n",
       "      <th>0</th>\n",
       "      <td>0</td>\n",
       "      <td>34.888889</td>\n",
       "      <td>135.131313</td>\n",
       "      <td>20.781235</td>\n",
       "      <td>三田</td>\n",
       "      <td>34.895000</td>\n",
       "      <td>135.211667</td>\n",
       "      <td>33.7</td>\n",
       "      <td>0.080586</td>\n",
       "    </tr>\n",
       "    <tr>\n",
       "      <th>1</th>\n",
       "      <td>1</td>\n",
       "      <td>37.333333</td>\n",
       "      <td>139.595960</td>\n",
       "      <td>20.383280</td>\n",
       "      <td>南郷</td>\n",
       "      <td>37.265000</td>\n",
       "      <td>139.536667</td>\n",
       "      <td>30.4</td>\n",
       "      <td>0.090472</td>\n",
       "    </tr>\n",
       "    <tr>\n",
       "      <th>2</th>\n",
       "      <td>2</td>\n",
       "      <td>32.000000</td>\n",
       "      <td>130.404040</td>\n",
       "      <td>19.466895</td>\n",
       "      <td>東市来</td>\n",
       "      <td>31.668333</td>\n",
       "      <td>130.328333</td>\n",
       "      <td>29.3</td>\n",
       "      <td>0.340197</td>\n",
       "    </tr>\n",
       "    <tr>\n",
       "      <th>3</th>\n",
       "      <td>3</td>\n",
       "      <td>36.444444</td>\n",
       "      <td>138.020202</td>\n",
       "      <td>18.300000</td>\n",
       "      <td>信州新町</td>\n",
       "      <td>36.548333</td>\n",
       "      <td>137.996667</td>\n",
       "      <td>33.9</td>\n",
       "      <td>0.106521</td>\n",
       "    </tr>\n",
       "    <tr>\n",
       "      <th>4</th>\n",
       "      <td>4</td>\n",
       "      <td>35.555556</td>\n",
       "      <td>133.818182</td>\n",
       "      <td>16.291111</td>\n",
       "      <td>倉吉</td>\n",
       "      <td>35.473333</td>\n",
       "      <td>133.838333</td>\n",
       "      <td>32.2</td>\n",
       "      <td>0.084656</td>\n",
       "    </tr>\n",
       "    <tr>\n",
       "      <th>...</th>\n",
       "      <td>...</td>\n",
       "      <td>...</td>\n",
       "      <td>...</td>\n",
       "      <td>...</td>\n",
       "      <td>...</td>\n",
       "      <td>...</td>\n",
       "      <td>...</td>\n",
       "      <td>...</td>\n",
       "      <td>...</td>\n",
       "    </tr>\n",
       "    <tr>\n",
       "      <th>95</th>\n",
       "      <td>95</td>\n",
       "      <td>37.555556</td>\n",
       "      <td>139.070707</td>\n",
       "      <td>2.996813</td>\n",
       "      <td>三条</td>\n",
       "      <td>37.640000</td>\n",
       "      <td>138.955000</td>\n",
       "      <td>32.4</td>\n",
       "      <td>0.143245</td>\n",
       "    </tr>\n",
       "    <tr>\n",
       "      <th>96</th>\n",
       "      <td>96</td>\n",
       "      <td>43.555556</td>\n",
       "      <td>144.060606</td>\n",
       "      <td>2.991202</td>\n",
       "      <td>阿寒湖畔</td>\n",
       "      <td>43.436667</td>\n",
       "      <td>144.083333</td>\n",
       "      <td>25.1</td>\n",
       "      <td>0.121042</td>\n",
       "    </tr>\n",
       "    <tr>\n",
       "      <th>97</th>\n",
       "      <td>97</td>\n",
       "      <td>38.666667</td>\n",
       "      <td>140.383838</td>\n",
       "      <td>2.981006</td>\n",
       "      <td>尾花沢</td>\n",
       "      <td>38.608333</td>\n",
       "      <td>140.411667</td>\n",
       "      <td>30.4</td>\n",
       "      <td>0.064631</td>\n",
       "    </tr>\n",
       "    <tr>\n",
       "      <th>98</th>\n",
       "      <td>98</td>\n",
       "      <td>39.111111</td>\n",
       "      <td>140.909091</td>\n",
       "      <td>2.973992</td>\n",
       "      <td>北上</td>\n",
       "      <td>39.288333</td>\n",
       "      <td>141.110000</td>\n",
       "      <td>28.9</td>\n",
       "      <td>0.267903</td>\n",
       "    </tr>\n",
       "    <tr>\n",
       "      <th>99</th>\n",
       "      <td>99</td>\n",
       "      <td>36.222222</td>\n",
       "      <td>137.494949</td>\n",
       "      <td>2.936088</td>\n",
       "      <td>栃尾</td>\n",
       "      <td>36.248333</td>\n",
       "      <td>137.503333</td>\n",
       "      <td>31.6</td>\n",
       "      <td>0.027424</td>\n",
       "    </tr>\n",
       "  </tbody>\n",
       "</table>\n",
       "<p>100 rows × 9 columns</p>\n",
       "</div>"
      ],
      "text/plain": [
       "    Unnamed: 0  var_latitude  var_longitude  var_value matched_station_name  \\\n",
       "0            0     34.888889     135.131313  20.781235                   三田   \n",
       "1            1     37.333333     139.595960  20.383280                   南郷   \n",
       "2            2     32.000000     130.404040  19.466895                  東市来   \n",
       "3            3     36.444444     138.020202  18.300000                 信州新町   \n",
       "4            4     35.555556     133.818182  16.291111                   倉吉   \n",
       "..         ...           ...            ...        ...                  ...   \n",
       "95          95     37.555556     139.070707   2.996813                   三条   \n",
       "96          96     43.555556     144.060606   2.991202                 阿寒湖畔   \n",
       "97          97     38.666667     140.383838   2.981006                  尾花沢   \n",
       "98          98     39.111111     140.909091   2.973992                   北上   \n",
       "99          99     36.222222     137.494949   2.936088                   栃尾   \n",
       "\n",
       "    matched_station_latitude  matched_station_longitude  temp  distance  \n",
       "0                  34.895000                 135.211667  33.7  0.080586  \n",
       "1                  37.265000                 139.536667  30.4  0.090472  \n",
       "2                  31.668333                 130.328333  29.3  0.340197  \n",
       "3                  36.548333                 137.996667  33.9  0.106521  \n",
       "4                  35.473333                 133.838333  32.2  0.084656  \n",
       "..                       ...                        ...   ...       ...  \n",
       "95                 37.640000                 138.955000  32.4  0.143245  \n",
       "96                 43.436667                 144.083333  25.1  0.121042  \n",
       "97                 38.608333                 140.411667  30.4  0.064631  \n",
       "98                 39.288333                 141.110000  28.9  0.267903  \n",
       "99                 36.248333                 137.503333  31.6  0.027424  \n",
       "\n",
       "[100 rows x 9 columns]"
      ]
     },
     "execution_count": 47,
     "metadata": {},
     "output_type": "execute_result"
    }
   ],
   "source": [
    "selected_data"
   ]
  },
  {
   "cell_type": "code",
   "execution_count": 48,
   "id": "abe49a09",
   "metadata": {},
   "outputs": [],
   "source": [
    "data = pd.read_csv(\"C://dropout_MC//dropout_MC//_02_build//data//train_data.csv\")\n",
    "train_data, others_data = train_test_split(data, test_size=0.7, random_state=42)\n",
    "\n",
    "use_col = [\"latitude\", \"longitude\", \"temp\"]\n",
    "train_data = train_data[use_col]\n",
    "\n",
    "add_data = pd.read_csv(\"C://dropout_MC//dropout_MC//_03_analyze//result//match_result_df.csv\")\n",
    "selected_data = add_data.iloc[:100]\n",
    "match_df_col = [\"matched_station_latitude\", \"matched_station_longitude\", \"temp\"]\n",
    "selected_data = selected_data[match_df_col]\n",
    "selected_data.columns = use_col\n",
    "train_data = pd.concat([train_data, selected_data]).reset_index()"
   ]
  },
  {
   "cell_type": "code",
   "execution_count": 50,
   "id": "936cc331",
   "metadata": {},
   "outputs": [],
   "source": [
    "train_X = train_data[['latitude', 'longitude']].values\n",
    "train_y = train_data['temp'].values.reshape(-1, 1) \n",
    "\n",
    "# Convert to PyTorch Tensors\n",
    "X_tensor = torch.tensor(train_X, dtype=torch.float32)\n",
    "y_tensor = torch.tensor(train_y, dtype=torch.float32)\n",
    "\n",
    "# Create a dataset and dataloader\n",
    "dataset = TensorDataset(X_tensor, y_tensor)\n",
    "\n",
    "train_size = int(0.7 * len(dataset))\n",
    "val_size = len(dataset) - train_size\n",
    "\n",
    "train_dataset, val_dataset = random_split(dataset, [train_size, val_size])\n",
    "\n",
    "# Batch size can be adjusted depending on your dataset size and memory\n",
    "train_loader = DataLoader(train_dataset, batch_size=10, shuffle=True)\n",
    "val_loader = DataLoader(val_dataset, batch_size=10)"
   ]
  },
  {
   "cell_type": "code",
   "execution_count": 51,
   "id": "b9e5b8bf",
   "metadata": {},
   "outputs": [],
   "source": [
    "class NN(nn.Module):\n",
    "    def __init__(self):\n",
    "        super(NN, self).__init__()\n",
    "        self.model = nn.Sequential(\n",
    "            nn.Linear(2, 1024),\n",
    "            nn.ReLU(),\n",
    "            nn.Dropout(0.1),\n",
    "            nn.Linear(1024, 1024),\n",
    "            nn.ReLU(),\n",
    "            nn.Dropout(0.1),\n",
    "            nn.Linear(1024, 1024),\n",
    "            nn.ReLU(),\n",
    "            nn.Dropout(0.1),\n",
    "            nn.Linear(1024, 1)\n",
    "        )\n",
    "\n",
    "    def forward(self, x):\n",
    "        return self.model(x)"
   ]
  },
  {
   "cell_type": "code",
   "execution_count": 52,
   "id": "a02f8c50",
   "metadata": {},
   "outputs": [],
   "source": [
    "# Create an instance of the model and optimizer\n",
    "model = NN()\n",
    "optimizer = torch.optim.Adam(model.parameters(), lr=0.001)\n",
    "loss_function = nn.MSELoss() "
   ]
  },
  {
   "cell_type": "code",
   "execution_count": 53,
   "id": "f6cdec3f",
   "metadata": {},
   "outputs": [
    {
     "name": "stdout",
     "output_type": "stream",
     "text": [
      "epoch[100/1000], eval: 12.1350\n",
      "epoch[200/1000], eval: 21.2094\n",
      "epoch[300/1000], eval: 19.5911\n",
      "epoch[400/1000], eval: 17.9573\n",
      "epoch[500/1000], eval: 24.8324\n",
      "epoch[600/1000], eval: 10.3867\n",
      "epoch[700/1000], eval: 16.1438\n",
      "epoch[800/1000], eval: 12.5572\n",
      "epoch[900/1000], eval: 15.8393\n",
      "epoch[1000/1000], eval: 8.6737\n",
      "training finished!\n",
      "best model was saved at C://dropout_MC//dropout_MC//_03_analyze//model//add_selected_data_model.pth: eval loss: 7.7250)\n"
     ]
    }
   ],
   "source": [
    "best_val_loss = float('inf') \n",
    "save_path = 'C://dropout_MC//dropout_MC//_03_analyze//model//add_selected_data_model.pth' \n",
    "epochs = 1000\n",
    "\n",
    "for epoch in range(epochs):\n",
    "    # --- train ---\n",
    "    model.train() \n",
    "    for inputs, targets in train_loader:\n",
    "        outputs = model(inputs)\n",
    "        loss = loss_function(outputs, targets)\n",
    "        optimizer.zero_grad()\n",
    "        loss.backward()\n",
    "        optimizer.step()\n",
    "\n",
    "    # --- evaluation ---\n",
    "    model.eval() \n",
    "    val_loss = 0.0\n",
    "    with torch.no_grad(): \n",
    "        for inputs, targets in val_loader:\n",
    "            outputs = model(inputs)\n",
    "            loss = loss_function(outputs, targets)\n",
    "            val_loss += loss.item()\n",
    "\n",
    "    avg_val_loss = val_loss / len(val_loader)\n",
    "\n",
    "    if (epoch + 1) % 100 == 0:\n",
    "        print(f'epoch[{epoch+1}/{epochs}], eval: {avg_val_loss:.4f}')\n",
    "\n",
    "    # --- best model save ---\n",
    "    if avg_val_loss < best_val_loss:\n",
    "        best_val_loss = avg_val_loss\n",
    "        torch.save(model.state_dict(), save_path)\n",
    "\n",
    "print(\"training finished!\")\n",
    "print(f\"best model was saved at {save_path}: eval loss: {best_val_loss:.4f})\")"
   ]
  },
  {
   "cell_type": "code",
   "execution_count": 54,
   "id": "80896d7a",
   "metadata": {},
   "outputs": [
    {
     "data": {
      "text/plain": [
       "NN(\n",
       "  (model): Sequential(\n",
       "    (0): Linear(in_features=2, out_features=1024, bias=True)\n",
       "    (1): ReLU()\n",
       "    (2): Dropout(p=0.1, inplace=False)\n",
       "    (3): Linear(in_features=1024, out_features=1024, bias=True)\n",
       "    (4): ReLU()\n",
       "    (5): Dropout(p=0.1, inplace=False)\n",
       "    (6): Linear(in_features=1024, out_features=1024, bias=True)\n",
       "    (7): ReLU()\n",
       "    (8): Dropout(p=0.1, inplace=False)\n",
       "    (9): Linear(in_features=1024, out_features=1, bias=True)\n",
       "  )\n",
       ")"
      ]
     },
     "execution_count": 54,
     "metadata": {},
     "output_type": "execute_result"
    }
   ],
   "source": [
    "loaded_model = NN()\n",
    "loaded_model.load_state_dict(torch.load(save_path))\n",
    "loaded_model.eval()"
   ]
  },
  {
   "cell_type": "code",
   "execution_count": 59,
   "id": "f65bacb5",
   "metadata": {},
   "outputs": [],
   "source": [
    "test_data = pd.read_csv(\"C://dropout_MC//dropout_MC//_02_build//data//test_data.csv\")\n",
    "test_X = train_X = test_data[['latitude', 'longitude']].values\n",
    "test_X_tensor = torch.tensor(test_X, dtype=torch.float32)\n",
    "y_pred = loaded_model(test_X_tensor).detach().numpy()\n",
    "test_data[\"pred\"] = y_pred\n",
    "test_data.to_csv(\"C://dropout_MC//dropout_MC//_03_analyze//result//add_selected_data_model_pred.csv\", index=False)"
   ]
  },
  {
   "cell_type": "code",
   "execution_count": 56,
   "id": "68217973",
   "metadata": {},
   "outputs": [
    {
     "data": {
      "text/plain": [
       "<matplotlib.collections.PathCollection at 0x1929b5d1eb0>"
      ]
     },
     "execution_count": 56,
     "metadata": {},
     "output_type": "execute_result"
    },
    {
     "data": {
      "image/png": "[encoded data removed]",
      "text/plain": [
       "<Figure size 640x480 with 1 Axes>"
      ]
     },
     "metadata": {},
     "output_type": "display_data"
    }
   ],
   "source": [
    "import matplotlib.pyplot as plt\n",
    "plt.scatter(test_data[\"temp\"], test_data[\"pred\"])"
   ]
  },
  {
   "cell_type": "code",
   "execution_count": 57,
   "id": "3f402c04",
   "metadata": {},
   "outputs": [
    {
     "data": {
      "text/plain": [
       "2.740976813251805"
      ]
     },
     "execution_count": 57,
     "metadata": {},
     "output_type": "execute_result"
    }
   ],
   "source": [
    "from sklearn.metrics import root_mean_squared_error as rmse\n",
    "rmse(test_data[\"temp\"], test_data[\"pred\"])"
   ]
  }
 ],
 "metadata": {
  "kernelspec": {
   "display_name": ".venv",
   "language": "python",
   "name": "python3"
  },
  "language_info": {
   "codemirror_mode": {
    "name": "ipython",
    "version": 3
   },
   "file_extension": ".py",
   "mimetype": "text/x-python",
   "name": "python",
   "nbconvert_exporter": "python",
   "pygments_lexer": "ipython3",
   "version": "3.12.0"
  }
 },
 "nbformat": 4,
 "nbformat_minor": 5
}
