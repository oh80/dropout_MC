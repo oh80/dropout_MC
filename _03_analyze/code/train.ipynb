{
 "cells": [
  {
   "cell_type": "code",
   "execution_count": null,
   "id": "2262cd88",
   "metadata": {},
   "outputs": [],
   "source": [
    "import pandas as pd\n",
    "from sklearn.model_selection import train_test_split\n",
    "from torch.utils.data import TensorDataset, DataLoader, random_split\n",
    "import torch\n",
    "import torch.nn as nn\n",
    "import numpy as np\n",
    "import geopandas as gpd\n",
    "from shapely.geometry import Point"
   ]
  },
  {
   "cell_type": "code",
   "execution_count": 2,
   "id": "f332c99d",
   "metadata": {},
   "outputs": [],
   "source": [
    "data = pd.read_csv(\"C://dropout_MC//dropout_MC//_02_build//data//train_data.csv\")"
   ]
  },
  {
   "cell_type": "code",
   "execution_count": 16,
   "id": "299a3787",
   "metadata": {},
   "outputs": [],
   "source": [
    "train_data, others_data = train_test_split(data, test_size=0.7, random_state=42)"
   ]
  },
  {
   "cell_type": "code",
   "execution_count": 17,
   "id": "2bd25999",
   "metadata": {},
   "outputs": [],
   "source": [
    "train_X = train_data[['latitude', 'longitude']].values\n",
    "train_y = train_data['temp'].values.reshape(-1, 1) \n",
    "\n",
    "# Convert to PyTorch Tensors\n",
    "X_tensor = torch.tensor(train_X, dtype=torch.float32)\n",
    "y_tensor = torch.tensor(train_y, dtype=torch.float32)\n",
    "\n",
    "# Create a dataset and dataloader\n",
    "dataset = TensorDataset(X_tensor, y_tensor)\n",
    "\n",
    "train_size = int(0.7 * len(dataset))\n",
    "val_size = len(dataset) - train_size\n",
    "\n",
    "train_dataset, val_dataset = random_split(dataset, [train_size, val_size])\n",
    "\n",
    "# Batch size can be adjusted depending on your dataset size and memory\n",
    "train_loader = DataLoader(train_dataset, batch_size=10, shuffle=True)\n",
    "val_loader = DataLoader(val_dataset, batch_size=10)\n"
   ]
  },
  {
   "cell_type": "code",
   "execution_count": 18,
   "id": "d97ddb53",
   "metadata": {},
   "outputs": [],
   "source": [
    "class NN(nn.Module):\n",
    "    def __init__(self):\n",
    "        super(NN, self).__init__()\n",
    "        self.model = nn.Sequential(\n",
    "            nn.Linear(2, 1024),\n",
    "            nn.ReLU(),\n",
    "            nn.Dropout(0.1),\n",
    "            nn.Linear(1024, 1024),\n",
    "            nn.ReLU(),\n",
    "            nn.Dropout(0.1),\n",
    "            nn.Linear(1024, 1024),\n",
    "            nn.ReLU(),\n",
    "            nn.Dropout(0.1),\n",
    "            nn.Linear(1024, 1)\n",
    "        )\n",
    "\n",
    "    def forward(self, x):\n",
    "        return self.model(x)"
   ]
  },
  {
   "cell_type": "code",
   "execution_count": 19,
   "id": "446f4171",
   "metadata": {},
   "outputs": [],
   "source": [
    "# Create an instance of the model and optimizer\n",
    "model = NN()\n",
    "optimizer = torch.optim.Adam(model.parameters(), lr=0.001)\n",
    "loss_function = nn.MSELoss() "
   ]
  },
  {
   "cell_type": "code",
   "execution_count": 20,
   "id": "1436be3a",
   "metadata": {},
   "outputs": [
    {
     "name": "stdout",
     "output_type": "stream",
     "text": [
      "epoch[100/1000], eval: 16.0180\n",
      "epoch[200/1000], eval: 25.0160\n",
      "epoch[300/1000], eval: 27.1596\n",
      "epoch[400/1000], eval: 33.9182\n",
      "epoch[500/1000], eval: 27.0422\n",
      "epoch[600/1000], eval: 12.9071\n",
      "epoch[700/1000], eval: 22.4303\n",
      "epoch[800/1000], eval: 11.6521\n",
      "epoch[900/1000], eval: 12.6819\n",
      "epoch[1000/1000], eval: 15.9110\n",
      "training finished!\n",
      "best model was saved at C://dropout_MC//dropout_MC//_03_analyze//model//initial_model.pth: eval loss: 6.9742)\n"
     ]
    }
   ],
   "source": [
    "best_val_loss = float('inf') \n",
    "save_path = 'C://dropout_MC//dropout_MC//_03_analyze//model//initial_model.pth' \n",
    "epochs = 1000\n",
    "\n",
    "for epoch in range(epochs):\n",
    "    # --- train ---\n",
    "    model.train() \n",
    "    for inputs, targets in train_loader:\n",
    "        outputs = model(inputs)\n",
    "        loss = loss_function(outputs, targets)\n",
    "        optimizer.zero_grad()\n",
    "        loss.backward()\n",
    "        optimizer.step()\n",
    "\n",
    "    # --- evaluation ---\n",
    "    model.eval() \n",
    "    val_loss = 0.0\n",
    "    with torch.no_grad(): \n",
    "        for inputs, targets in val_loader:\n",
    "            outputs = model(inputs)\n",
    "            loss = loss_function(outputs, targets)\n",
    "            val_loss += loss.item()\n",
    "\n",
    "    avg_val_loss = val_loss / len(val_loader)\n",
    "\n",
    "    if (epoch + 1) % 100 == 0:\n",
    "        print(f'epoch[{epoch+1}/{epochs}], eval: {avg_val_loss:.4f}')\n",
    "\n",
    "    # --- best model save ---\n",
    "    if avg_val_loss < best_val_loss:\n",
    "        best_val_loss = avg_val_loss\n",
    "        torch.save(model.state_dict(), save_path)\n",
    "\n",
    "print(\"training finished!\")\n",
    "print(f\"best model was saved at {save_path}: eval loss: {best_val_loss:.4f})\")"
   ]
  },
  {
   "cell_type": "code",
   "execution_count": 21,
   "id": "1b209055",
   "metadata": {},
   "outputs": [
    {
     "data": {
      "text/plain": [
       "NN(\n",
       "  (model): Sequential(\n",
       "    (0): Linear(in_features=2, out_features=1024, bias=True)\n",
       "    (1): ReLU()\n",
       "    (2): Dropout(p=0.1, inplace=False)\n",
       "    (3): Linear(in_features=1024, out_features=1024, bias=True)\n",
       "    (4): ReLU()\n",
       "    (5): Dropout(p=0.1, inplace=False)\n",
       "    (6): Linear(in_features=1024, out_features=1024, bias=True)\n",
       "    (7): ReLU()\n",
       "    (8): Dropout(p=0.1, inplace=False)\n",
       "    (9): Linear(in_features=1024, out_features=1, bias=True)\n",
       "  )\n",
       ")"
      ]
     },
     "execution_count": 21,
     "metadata": {},
     "output_type": "execute_result"
    }
   ],
   "source": [
    "loaded_model = NN()\n",
    "loaded_model.load_state_dict(torch.load(save_path))\n",
    "loaded_model.eval()"
   ]
  },
  {
   "cell_type": "code",
   "execution_count": 46,
   "id": "e3afcc91",
   "metadata": {},
   "outputs": [],
   "source": [
    "test_data = pd.read_csv(\"C://dropout_MC//dropout_MC//_02_build//data//test_data.csv\")\n",
    "test_X = train_X = test_data[['latitude', 'longitude']].values\n",
    "test_X_tensor = torch.tensor(test_X, dtype=torch.float32)"
   ]
  },
  {
   "cell_type": "code",
   "execution_count": 47,
   "id": "63ad0bde",
   "metadata": {},
   "outputs": [],
   "source": [
    "y_pred = loaded_model(test_X_tensor).detach().numpy()"
   ]
  },
  {
   "cell_type": "code",
   "execution_count": 49,
   "id": "367b00e8",
   "metadata": {},
   "outputs": [],
   "source": [
    "test_data[\"pred\"] = y_pred"
   ]
  },
  {
   "cell_type": "code",
   "execution_count": 51,
   "id": "4d03693a",
   "metadata": {},
   "outputs": [],
   "source": [
    "test_data.to_csv(\"C://dropout_MC//dropout_MC//_03_analyze//result//initial_model_pred.csv\", index=False)"
   ]
  },
  {
   "cell_type": "code",
   "execution_count": 50,
   "id": "82dc068b",
   "metadata": {},
   "outputs": [
    {
     "data": {
      "text/plain": [
       "<matplotlib.collections.PathCollection at 0x1e1e32f6cc0>"
      ]
     },
     "execution_count": 50,
     "metadata": {},
     "output_type": "execute_result"
    },
    {
     "data": {
      "image/png": "[encoded data removed]",
      "text/plain": [
       "<Figure size 640x480 with 1 Axes>"
      ]
     },
     "metadata": {},
     "output_type": "display_data"
    }
   ],
   "source": [
    "plt.scatter(test_data[\"temp\"], test_data[\"pred\"])"
   ]
  }
 ],
 "metadata": {
  "kernelspec": {
   "display_name": ".venv",
   "language": "python",
   "name": "python3"
  },
  "language_info": {
   "codemirror_mode": {
    "name": "ipython",
    "version": 3
   },
   "file_extension": ".py",
   "mimetype": "text/x-python",
   "name": "python",
   "nbconvert_exporter": "python",
   "pygments_lexer": "ipython3",
   "version": "3.12.0"
  }
 },
 "nbformat": 4,
 "nbformat_minor": 5
}
