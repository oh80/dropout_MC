{
 "cells": [
  {
   "cell_type": "code",
   "execution_count": 21,
   "id": "dc617c70",
   "metadata": {},
   "outputs": [],
   "source": [
    "import pandas as pd\n",
    "from sklearn.metrics import root_mean_squared_error as rmse"
   ]
  },
  {
   "cell_type": "code",
   "execution_count": 31,
   "id": "1ae28282",
   "metadata": {},
   "outputs": [],
   "source": [
    "propose_df = pd.read_csv(\"C://dropout_MC//dropout_MC//_03_analyze//result//add_selected_data_model_pred.csv\")\n",
    "initial_df = pd.read_csv(\"C://dropout_MC//dropout_MC//_03_analyze//result//initial_model_pred.csv\")\n",
    "random_df = pd.read_csv(\"C://dropout_MC//dropout_MC//_03_analyze//result//add_data_random_model_pred.csv\")"
   ]
  },
  {
   "cell_type": "code",
   "execution_count": 23,
   "id": "8ac34a7b",
   "metadata": {},
   "outputs": [
    {
     "data": {
      "text/html": [
       "<div>\n",
       "<style scoped>\n",
       "    .dataframe tbody tr th:only-of-type {\n",
       "        vertical-align: middle;\n",
       "    }\n",
       "\n",
       "    .dataframe tbody tr th {\n",
       "        vertical-align: top;\n",
       "    }\n",
       "\n",
       "    .dataframe thead th {\n",
       "        text-align: right;\n",
       "    }\n",
       "</style>\n",
       "<table border=\"1\" class=\"dataframe\">\n",
       "  <thead>\n",
       "    <tr style=\"text-align: right;\">\n",
       "      <th></th>\n",
       "      <th>latitude</th>\n",
       "      <th>longitude</th>\n",
       "      <th>station_name</th>\n",
       "      <th>temp</th>\n",
       "      <th>pred</th>\n",
       "    </tr>\n",
       "  </thead>\n",
       "  <tbody>\n",
       "    <tr>\n",
       "      <th>195</th>\n",
       "      <td>24.288333</td>\n",
       "      <td>153.983333</td>\n",
       "      <td>南鳥島</td>\n",
       "      <td>31.6</td>\n",
       "      <td>36.993023</td>\n",
       "    </tr>\n",
       "  </tbody>\n",
       "</table>\n",
       "</div>"
      ],
      "text/plain": [
       "      latitude   longitude station_name  temp       pred\n",
       "195  24.288333  153.983333          南鳥島  31.6  36.993023"
      ]
     },
     "execution_count": 23,
     "metadata": {},
     "output_type": "execute_result"
    }
   ],
   "source": [
    "propose_df[propose_df[\"pred\"] > 36]"
   ]
  },
  {
   "cell_type": "code",
   "execution_count": 32,
   "id": "42af20da",
   "metadata": {},
   "outputs": [
    {
     "data": {
      "text/html": [
       "<div>\n",
       "<style scoped>\n",
       "    .dataframe tbody tr th:only-of-type {\n",
       "        vertical-align: middle;\n",
       "    }\n",
       "\n",
       "    .dataframe tbody tr th {\n",
       "        vertical-align: top;\n",
       "    }\n",
       "\n",
       "    .dataframe thead th {\n",
       "        text-align: right;\n",
       "    }\n",
       "</style>\n",
       "<table border=\"1\" class=\"dataframe\">\n",
       "  <thead>\n",
       "    <tr style=\"text-align: right;\">\n",
       "      <th></th>\n",
       "      <th>latitude</th>\n",
       "      <th>longitude</th>\n",
       "      <th>station_name</th>\n",
       "      <th>temp</th>\n",
       "      <th>pred</th>\n",
       "    </tr>\n",
       "  </thead>\n",
       "  <tbody>\n",
       "    <tr>\n",
       "      <th>148</th>\n",
       "      <td>35.36</td>\n",
       "      <td>138.726667</td>\n",
       "      <td>富士山</td>\n",
       "      <td>14.7</td>\n",
       "      <td>31.58288</td>\n",
       "    </tr>\n",
       "  </tbody>\n",
       "</table>\n",
       "</div>"
      ],
      "text/plain": [
       "     latitude   longitude station_name  temp      pred\n",
       "148     35.36  138.726667          富士山  14.7  31.58288"
      ]
     },
     "execution_count": 32,
     "metadata": {},
     "output_type": "execute_result"
    }
   ],
   "source": [
    "propose_df[propose_df[\"temp\"] < 17]"
   ]
  },
  {
   "cell_type": "code",
   "execution_count": 33,
   "id": "43e807e9",
   "metadata": {},
   "outputs": [],
   "source": [
    "drop_idx = [195, 148]"
   ]
  },
  {
   "cell_type": "code",
   "execution_count": 34,
   "id": "6fc218a1",
   "metadata": {},
   "outputs": [],
   "source": [
    "propose_df = propose_df.drop(drop_idx, axis=0)\n",
    "initial_df = initial_df.drop(drop_idx, axis=0)\n",
    "random_df  = random_df.drop(drop_idx, axis=0)"
   ]
  },
  {
   "cell_type": "code",
   "execution_count": 35,
   "id": "aca11baf",
   "metadata": {},
   "outputs": [
    {
     "data": {
      "text/plain": [
       "2.538078684733273"
      ]
     },
     "execution_count": 35,
     "metadata": {},
     "output_type": "execute_result"
    }
   ],
   "source": [
    "rmse(propose_df[\"temp\"], propose_df[\"pred\"])"
   ]
  },
  {
   "cell_type": "code",
   "execution_count": 36,
   "id": "ad4597d8",
   "metadata": {},
   "outputs": [
    {
     "data": {
      "text/plain": [
       "2.6023741141048475"
      ]
     },
     "execution_count": 36,
     "metadata": {},
     "output_type": "execute_result"
    }
   ],
   "source": [
    "rmse(initial_df[\"temp\"], initial_df[\"pred\"])"
   ]
  },
  {
   "cell_type": "code",
   "execution_count": 37,
   "id": "570c83eb",
   "metadata": {},
   "outputs": [
    {
     "data": {
      "text/plain": [
       "2.5504554438191214"
      ]
     },
     "execution_count": 37,
     "metadata": {},
     "output_type": "execute_result"
    }
   ],
   "source": [
    "rmse(random_df[\"temp\"], random_df[\"pred\"])"
   ]
  },
  {
   "cell_type": "code",
   "execution_count": 38,
   "id": "838e7bb6",
   "metadata": {},
   "outputs": [
    {
     "data": {
      "text/plain": [
       "(282, 5)"
      ]
     },
     "execution_count": 38,
     "metadata": {},
     "output_type": "execute_result"
    }
   ],
   "source": [
    "propose_df.shape"
   ]
  },
  {
   "cell_type": "code",
   "execution_count": null,
   "id": "859a7090",
   "metadata": {},
   "outputs": [],
   "source": []
  }
 ],
 "metadata": {
  "kernelspec": {
   "display_name": ".venv",
   "language": "python",
   "name": "python3"
  },
  "language_info": {
   "codemirror_mode": {
    "name": "ipython",
    "version": 3
   },
   "file_extension": ".py",
   "mimetype": "text/x-python",
   "name": "python",
   "nbconvert_exporter": "python",
   "pygments_lexer": "ipython3",
   "version": "3.12.0"
  }
 },
 "nbformat": 4,
 "nbformat_minor": 5
}
